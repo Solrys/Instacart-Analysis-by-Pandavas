{
 "cells": [
  {
   "cell_type": "markdown",
   "metadata": {},
   "source": [
    "# Instacart Promotions"
   ]
  },
  {
   "cell_type": "code",
   "execution_count": 9,
   "metadata": {},
   "outputs": [
    {
     "name": "stdout",
     "output_type": "stream",
     "text": [
      "The autoreload extension is already loaded. To reload it, use:\n",
      "  %reload_ext autoreload\n"
     ]
    }
   ],
   "source": [
    "import pandas as pd\n",
    "import numpy as np\n",
    "import math\n",
    "import json\n",
    "import seaborn as sns\n",
    "import matplotlib.pyplot as plt\n",
    "%matplotlib inline\n",
    "\n",
    "%load_ext autoreload\n",
    "%autoreload 2 \n",
    "\n",
    "# read in the files\n",
    "portfolio = pd.read_csv('data/portfolio.csv')\n",
    "profile = pd.read_csv('data/profile.csv')\n",
    "transcript = pd.read_csv('data/transcript.csv')"
   ]
  },
  {
   "cell_type": "markdown",
   "metadata": {},
   "source": [
    "## Portfolio"
   ]
  },
  {
   "cell_type": "markdown",
   "metadata": {},
   "source": [
    "##### We will perform pre-processing for this dataframe as follow :\n",
    "\n",
    "The channels columns require to be one-hot encoded.\n",
    "Add offer name rather than only using offer ids for interpretation later on.\n",
    "The offer will be named as offer_type difficulty reward_duration. For example, bogo_10_10_7 means offer type of bogo with difficulty of 10 dollar, reward of 10 dollar, and duration for 7 days"
   ]
  },
  {
   "cell_type": "code",
   "execution_count": 10,
   "metadata": {},
   "outputs": [],
   "source": [
    "\n",
    "#function for cleaning portfolio\n",
    "\n",
    "def add_portfolio_name(portfolio_df):\n",
    "    #provide portfolio name instead of id for interpretation later on\n",
    "\n",
    "    portfolio_df['name'] = portfolio_df.offer_type.astype(str) + \"_\" + portfolio_df.difficulty.astype(str) +\\\n",
    "                      \"_\" + portfolio_df.reward.astype(str) + \\\n",
    "                     \"_\" + portfolio_df.duration.astype(str)\n",
    "    return portfolio_df\n",
    "\n",
    "def one_hot_channels(portfolio_df):\n",
    "    #one hot encoded channels columns\n",
    "    channels = ['web', 'email', 'mobile', 'social']\n",
    "\n",
    "    for channel in channels:\n",
    "        portfolio_df[channel] = portfolio_df.channels.apply(lambda x: channel in x)*1\n",
    "\n",
    "    #drop channels column\n",
    "    portfolio_df = portfolio_df.drop('channels', axis=1)\n",
    "    \n",
    "    return portfolio_df\n",
    "\n",
    "def portfolio_preprocessing(portfolio_df):\n",
    "    # portfolio preporcessing function, execute : add_portfolio_name and one_hot_channels\n",
    "    \n",
    "    portfolio_df = add_portfolio_name(portfolio_df)\n",
    "    # one_hot_channels\n",
    "    portfolio_df = one_hot_channels(portfolio_df)\n",
    "    return portfolio_df"
   ]
  },
  {
   "cell_type": "code",
   "execution_count": 11,
   "metadata": {},
   "outputs": [],
   "source": [
    "portfolio_clean = portfolio_preprocessing(portfolio)"
   ]
  },
  {
   "cell_type": "code",
   "execution_count": 12,
   "metadata": {},
   "outputs": [
    {
     "data": {
      "text/html": [
       "<div>\n",
       "<style scoped>\n",
       "    .dataframe tbody tr th:only-of-type {\n",
       "        vertical-align: middle;\n",
       "    }\n",
       "\n",
       "    .dataframe tbody tr th {\n",
       "        vertical-align: top;\n",
       "    }\n",
       "\n",
       "    .dataframe thead th {\n",
       "        text-align: right;\n",
       "    }\n",
       "</style>\n",
       "<table border=\"1\" class=\"dataframe\">\n",
       "  <thead>\n",
       "    <tr style=\"text-align: right;\">\n",
       "      <th></th>\n",
       "      <th>Unnamed: 0</th>\n",
       "      <th>reward</th>\n",
       "      <th>difficulty</th>\n",
       "      <th>duration</th>\n",
       "      <th>offer_type</th>\n",
       "      <th>id</th>\n",
       "      <th>name</th>\n",
       "      <th>web</th>\n",
       "      <th>email</th>\n",
       "      <th>mobile</th>\n",
       "      <th>social</th>\n",
       "    </tr>\n",
       "  </thead>\n",
       "  <tbody>\n",
       "    <tr>\n",
       "      <th>0</th>\n",
       "      <td>0</td>\n",
       "      <td>10</td>\n",
       "      <td>10</td>\n",
       "      <td>7</td>\n",
       "      <td>bogo</td>\n",
       "      <td>ae264e3637204a6fb9bb56bc8210ddfd</td>\n",
       "      <td>bogo_10_10_7</td>\n",
       "      <td>0</td>\n",
       "      <td>1</td>\n",
       "      <td>1</td>\n",
       "      <td>1</td>\n",
       "    </tr>\n",
       "    <tr>\n",
       "      <th>1</th>\n",
       "      <td>1</td>\n",
       "      <td>10</td>\n",
       "      <td>10</td>\n",
       "      <td>5</td>\n",
       "      <td>bogo</td>\n",
       "      <td>4d5c57ea9a6940dd891ad53e9dbe8da0</td>\n",
       "      <td>bogo_10_10_5</td>\n",
       "      <td>1</td>\n",
       "      <td>1</td>\n",
       "      <td>1</td>\n",
       "      <td>1</td>\n",
       "    </tr>\n",
       "    <tr>\n",
       "      <th>2</th>\n",
       "      <td>2</td>\n",
       "      <td>0</td>\n",
       "      <td>0</td>\n",
       "      <td>4</td>\n",
       "      <td>informational</td>\n",
       "      <td>3f207df678b143eea3cee63160fa8bed</td>\n",
       "      <td>informational_0_0_4</td>\n",
       "      <td>1</td>\n",
       "      <td>1</td>\n",
       "      <td>1</td>\n",
       "      <td>0</td>\n",
       "    </tr>\n",
       "    <tr>\n",
       "      <th>3</th>\n",
       "      <td>3</td>\n",
       "      <td>5</td>\n",
       "      <td>5</td>\n",
       "      <td>7</td>\n",
       "      <td>bogo</td>\n",
       "      <td>9b98b8c7a33c4b65b9aebfe6a799e6d9</td>\n",
       "      <td>bogo_5_5_7</td>\n",
       "      <td>1</td>\n",
       "      <td>1</td>\n",
       "      <td>1</td>\n",
       "      <td>0</td>\n",
       "    </tr>\n",
       "    <tr>\n",
       "      <th>4</th>\n",
       "      <td>4</td>\n",
       "      <td>5</td>\n",
       "      <td>20</td>\n",
       "      <td>10</td>\n",
       "      <td>discount</td>\n",
       "      <td>0b1e1539f2cc45b7b9fa7c272da2e1d7</td>\n",
       "      <td>discount_20_5_10</td>\n",
       "      <td>1</td>\n",
       "      <td>1</td>\n",
       "      <td>0</td>\n",
       "      <td>0</td>\n",
       "    </tr>\n",
       "  </tbody>\n",
       "</table>\n",
       "</div>"
      ],
      "text/plain": [
       "   Unnamed: 0  reward  difficulty  duration     offer_type  \\\n",
       "0           0      10          10         7           bogo   \n",
       "1           1      10          10         5           bogo   \n",
       "2           2       0           0         4  informational   \n",
       "3           3       5           5         7           bogo   \n",
       "4           4       5          20        10       discount   \n",
       "\n",
       "                                 id                 name  web  email  mobile  \\\n",
       "0  ae264e3637204a6fb9bb56bc8210ddfd         bogo_10_10_7    0      1       1   \n",
       "1  4d5c57ea9a6940dd891ad53e9dbe8da0         bogo_10_10_5    1      1       1   \n",
       "2  3f207df678b143eea3cee63160fa8bed  informational_0_0_4    1      1       1   \n",
       "3  9b98b8c7a33c4b65b9aebfe6a799e6d9           bogo_5_5_7    1      1       1   \n",
       "4  0b1e1539f2cc45b7b9fa7c272da2e1d7     discount_20_5_10    1      1       0   \n",
       "\n",
       "   social  \n",
       "0       1  \n",
       "1       1  \n",
       "2       0  \n",
       "3       0  \n",
       "4       0  "
      ]
     },
     "execution_count": 12,
     "metadata": {},
     "output_type": "execute_result"
    }
   ],
   "source": [
    "portfolio_clean.head()"
   ]
  },
  {
   "cell_type": "code",
   "execution_count": null,
   "metadata": {},
   "outputs": [],
   "source": []
  }
 ],
 "metadata": {
  "kernelspec": {
   "display_name": "PythonData",
   "language": "python",
   "name": "pythondata"
  },
  "language_info": {
   "codemirror_mode": {
    "name": "ipython",
    "version": 3
   },
   "file_extension": ".py",
   "mimetype": "text/x-python",
   "name": "python",
   "nbconvert_exporter": "python",
   "pygments_lexer": "ipython3",
   "version": "3.7.9"
  }
 },
 "nbformat": 4,
 "nbformat_minor": 4
}
