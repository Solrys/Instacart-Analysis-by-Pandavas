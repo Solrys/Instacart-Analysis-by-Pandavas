{
 "cells": [
  {
   "cell_type": "code",
   "execution_count": 1,
   "metadata": {},
   "outputs": [],
   "source": [
    "def setup_nn_model(input_features:int, layer1:int, layer2:int, add_layers:int, \n",
    "                   actv_fun1:str, actv_func2:str, output_func:str,)->float:\n",
    "\n",
    "    # Define the model - deep neural net, i.e., the number of input features and hidden nodes for each layer.\n",
    "    number_input_features = input_features\n",
    "    hidden_nodes_layer1 = layer1\n",
    "    hidden_nodes_layer2 = layer2\n",
    "\n",
    "    nn = tf.keras.models.Sequential()\n",
    "\n",
    "    # First hidden layer\n",
    "    nn.add(tf.keras.layers.Dense(units=hidden_nodes_layer1, input_dim=number_input_features ,activation=actv_fun1))\n",
    "\n",
    "    # Second hidden layer\n",
    "    nn.add(\n",
    "        tf.keras.layers.Dense(units=hidden_nodes_layer2, activation=actv_func2 )\n",
    "    )\n",
    "    if (add_layers == 1):\n",
    "        nn.add(\n",
    "        tf.keras.layers.Dense(units=hidden_nodes_layer2, activation=actv_func2 )\n",
    "    )\n",
    "        \n",
    "    # Output layer\n",
    "    nn.add(tf.keras.layers.Dense(units=1, activation=output_func))\n",
    "    \n",
    "    return nn\n"
   ]
  },
  {
   "cell_type": "code",
   "execution_count": 2,
   "metadata": {},
   "outputs": [],
   "source": [
    "# Define a Training Function for the Neural Network\n",
    "def train_nn(model:float, num_epochs:int):\n",
    "    # Import checkpoint dependencies\n",
    "    import os\n",
    "    from tensorflow.keras.callbacks import ModelCheckpoint\n",
    "\n",
    "    # Define the checkpoint path and filenames\n",
    "    os.makedirs(\"checkpoints/\",exist_ok=True)\n",
    "    checkpoint_path = \"checkpoints/weights.{epoch:02d}.hdf5\"\n",
    "\n",
    "    # Create a callback that saves the model's weights every 5 epochs\n",
    "    cp_callback = ModelCheckpoint(\n",
    "        filepath=checkpoint_path,\n",
    "        verbose=1,\n",
    "        save_weights_only=True,\n",
    "        save_freq=50000)\n",
    "    \n",
    "    # Compile the model\n",
    "    nn.compile(loss=\"binary_crossentropy\",optimizer=\"adam\",metrics=[\"accuracy\"])\n",
    "    \n",
    "    # Train the model\n",
    "    fit_model = nn.fit(X_train_scaled, y_train, epochs=num_epochs, callbacks=[cp_callback])\n",
    "    \n",
    "    # Evaluate the model using the test data\n",
    "    model_loss, model_accuracy = nn.evaluate(X_test_scaled,y_test,verbose=2)\n",
    "    print(f\"Loss: {model_loss}, Accuracy: {model_accuracy}\")\n",
    "    \n",
    "    # Export our model to HDF5 file\n",
    "    nn.save(\"CustReordering.h5\")"
   ]
  },
  {
   "cell_type": "code",
   "execution_count": null,
   "metadata": {},
   "outputs": [],
   "source": []
  }
 ],
 "metadata": {
  "kernelspec": {
   "display_name": "Python 3",
   "language": "python",
   "name": "python3"
  },
  "language_info": {
   "codemirror_mode": {
    "name": "ipython",
    "version": 3
   },
   "file_extension": ".py",
   "mimetype": "text/x-python",
   "name": "python",
   "nbconvert_exporter": "python",
   "pygments_lexer": "ipython3",
   "version": "3.7.9"
  }
 },
 "nbformat": 4,
 "nbformat_minor": 4
}
